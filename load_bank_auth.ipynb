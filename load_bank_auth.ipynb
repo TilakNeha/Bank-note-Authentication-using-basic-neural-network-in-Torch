{
 "metadata": {
  "language": "lua",
  "name": "",
  "signature": "sha256:f83bac34353ecd40c4738906838b494d55119c1a6b9c4011a16694aa71376a92"
 },
 "nbformat": 3,
 "nbformat_minor": 0,
 "worksheets": [
  {
   "cells": [
    {
     "cell_type": "code",
     "collapsed": false,
     "input": [
      "require \"nn\""
     ],
     "language": "python",
     "metadata": {},
     "outputs": [
      {
       "metadata": {},
       "output_type": "pyout",
       "prompt_number": 1,
       "text": [
        "{\n",
        "  Copy : table: 0x40326268\n",
        "  ConcatTable : table: 0x4043f3f0\n",
        "  L1HingeEmbeddingCriterion : table: 0x4044c420\n",
        "  SpatialAveragePooling : table: 0x41645a20\n",
        "  StochasticGradient : table: 0x404565d8\n",
        "  SpatialConvolutionMM : table: 0x416381b8\n",
        "  Reshape : table: 0x40c45160\n",
        "  SpatialContrastiveNormalization : table: 0x41651b20\n",
        "  Jacobian : \n",
        "    {\n",
        "      forward : function: 0x40be91e0\n",
        "      testAllUpdate : function: 0x40bea640\n",
        "      testDiagHessianInput : function: 0x40bea4f0\n",
        "      testDiagHessianWeight : function: 0x40bea5e0\n",
        "      testDiagHessianBias : function: 0x40bea600\n",
        "      testDiagHessian : function: 0x40bea4d0\n",
        "      testJacobian : function: 0x40be9200\n",
        "      testIO : function: 0x40bea620\n",
        "      testJacobianUpdateParameters : function: 0x40bea4b0\n",
        "      backwardDiagHessian : function: 0x40bea518\n",
        "      testJacobianParameters : function: 0x40be9188\n",
        "      backwardUpdate : function: 0x40be91c0\n",
        "      forwardUpdate : function: 0x40bea558\n",
        "      backward : function: 0x40be9168\n",
        "      linearModuleDiagHessian : function: 0x40bea538\n",
        "    }\n",
        "  CosineEmbeddingCriterion : table: 0x404946e0\n",
        "  SparseLinear : table: 0x40c43278\n",
        "  CDivTable : table: 0x40373c60\n",
        "  Container : table: 0x40a91220\n",
        "  MarginRankingCriterion : table: 0x4037e598\n",
        "  test : function: 0x4164d1b0\n",
        "  CAddTable : table: 0x40372010\n",
        "  TemporalConvolution : table: 0x416483e0\n",
        "  PairwiseDistance : table: 0x40381b20\n",
        "  SpatialLPPooling : table: 0x41643980\n",
        "  BCECriterion : table: 0x40be2138\n",
        "  Concat : table: 0x40a94c88\n",
        "  CrossEntropyCriterion : table: 0x40a96758\n",
        "  SelectTable : table: 0x41017790\n",
        "  LookupTable : table: 0x40494798\n",
        "  ParallelTable : table: 0x40bebc60\n",
        "  MM : table: 0x40492e68\n",
        "  HardShrink : table: 0x4048d1f8\n",
        "  TanhShrink : table: 0x40487250\n",
        "  MixtureTable : table: 0x40c3ecc8\n",
        "  ParallelCriterion : table: 0x41638308\n",
        "  Abs : table: 0x404885a0\n",
        "  SpatialFullConvolutionMap : table: 0x416370d0\n",
        "  SparseJacobian : \n",
        "    {\n",
        "      forward : function: 0x4048d058\n",
        "      testJacobian : function: 0x4048e388\n",
        "      testIO : function: 0x4048d078\n",
        "      testAllUpdate : function: 0x41649598\n"
       ]
      },
      {
       "metadata": {},
       "output_type": "pyout",
       "prompt_number": 1,
       "text": [
        "      testJacobianParameters : function: 0x4048e3a8\n",
        "      testJacobianUpdateParameters : function: 0x4163d7b0\n",
        "      forwardUpdate : function: 0x4048e368\n",
        "      backward : function: 0x4037d600\n",
        "      backwardUpdate : function: 0x4048d038\n",
        "    }\n",
        "  LogSoftMax : table: 0x4047f3e8\n",
        "  SoftMin : table: 0x40482820\n",
        "  WeightedMSECriterion : table: 0x40a8aa10\n",
        "  Min : table: 0x403291a0\n",
        "  Square : table: 0x4048ac98\n",
        "  L1Cost : table: 0x41e12368\n",
        "  Exp : table: 0x4047ad30\n",
        "  Add : table: 0x4036afc0\n",
        "  MultiLabelMarginCriterion : table: 0x4037bd08\n",
        "  MultiMarginCriterion : table: 0x41020d60\n",
        "  HingeEmbeddingCriterion : table: 0x4047d168\n",
        "  MarginCriterion : table: 0x41013618\n",
        "  DistKLDivCriterion : table: 0x4048f8d0\n",
        "  ClassNLLCriterion : table: 0x40378b48\n",
        "  BatchNormalization : table: 0x40320da8\n",
        "  AbsCriterion : table: 0x40368830\n",
        "  FlattenTable : table: 0x40382b30\n",
        "  MultiCriterion : table: 0x41644f10\n",
        "  PReLU : table: 0x404923f8\n",
        "  utils : \n",
        "    {\n",
        "      recursiveType : function: 0x40a85540\n",
        "      recursiveResizeAs : function: 0x40a87370\n",
        "      recursiveAdd : function: 0x40a87418\n",
        "      addSingletonDimension : function: 0x40a87438\n",
        "      recursiveFill : function: 0x40a87390\n",
        "    }\n",
        "  AddConstant : table: 0x4036d400\n",
        "  Max : table: 0x4032a2b0\n",
        "  CMul : table: 0x4032fad0\n",
        "  Replicate : table: 0x4031ed80\n",
        "  View : table: 0x403193c8\n",
        "  Mean : table: 0x4032cca0\n",
        "  MSECriterion : table: 0x410250e0\n",
        "  Dropout : table: 0x4036e0f8\n",
        "  Criterion : table: 0x409b3618\n",
        "  SoftPlus : table: 0x40483a68\n",
        "  Identity : table: 0x41d1cb70\n",
        "  HardTanh : table: 0x4047d118\n",
        "  NarrowTable : table: 0x403264f0\n",
        "  Transpose : table: 0x4031fe48\n",
        "  L1Penalty : table: 0x41d06538\n",
        "  SplitTable : table: 0x4104d100\n",
        "  DotProduct : table: 0x40384d28\n",
        "  Sqrt : table: 0x4048bf00\n",
        "  Sequential : table: 0x40a9b1b8\n",
        "  DepthConcat : table: 0x40a9c980\n",
        "  CMulTable : table: 0x40375878\n",
        "  ReLU : table: 0x40490d08\n",
        "  Parallel : table: 0x40a97f98\n",
        "  SoftShrink : table: 0x4048e420\n",
        "  JoinTable : table: 0x40beebe8\n",
        "  VolumetricAveragePooling : table: 0x40be9df0\n",
        "  SoftMax : table: 0x404814a8\n",
        "  SpatialSubtractiveNormalization : table: 0x4164d710\n",
        "  VolumetricMaxPooling : table: 0x40be92d0\n",
        "  VolumetricConvolution : table: 0x40be57d8\n",
        "  SpatialBatchNormalization : table: 0x40be3450\n",
        "  Log : table: 0x4047c088\n",
        "  SpatialUpSamplingNearest : table: 0x40be2060\n",
        "  SpatialDropout : table: 0x4036ffb0\n",
        "  Padding : table: 0x40325688\n",
        "  Sum : table: 0x4032e7e0\n",
        "  SoftSign : table: 0x40484ef8\n",
        "  SpatialDivisiveNormalization : table: 0x416501d8\n",
        "  TemporalMaxPooling : table: 0x4164c8e8\n",
        "  TemporalSubSampling : table: 0x4164a4e0\n",
        "  SpatialAdaptiveMaxPooling : table: 0x416472b8\n",
        "  Tanh : table: 0x40485ea0\n",
        "  hessian : \n",
        "    {\n",
        "      accDiagHessianParameters : function: 0x403694f0\n",
        "      updateDiagHessianInputPointWise : function: 0x40369598\n",
        "      initDiagHessianParameters : function: 0x40481ae8\n",
        "      updateDiagHessianInput : function: 0x40369510\n",
        "      enable : function: 0x40495a48\n",
        "    }\n",
        "  Linear : table: 0x40a9f408\n",
        "  Select : table: 0x4031bba0\n",
        "  SpatialMaxPooling : table: 0x416419e8\n",
        "  SpatialSubSampling : table: 0x4163fa08\n",
        "  tables : \n",
        "    {\n",
        "      full : function: 0x4163b7d0\n",
        "      oneToOne : function: 0x4163e1c8\n",
        "      random : function: 0x4163e5d0\n",
        "    }\n",
        "  SpatialConvolution : table: 0x40496e90\n",
        "  CriterionTable : table: 0x41651a18\n",
        "  SpatialConvolutionMap : table: 0x4163b758\n",
        "  CSubTable : table: 0x40376ff0\n",
        "  Power : table: 0x40489aa0\n",
        "  Module : table: 0x40a8b9f0\n",
        "  WeightedEuclidean : table: 0x4037c068\n",
        "  SpatialFullConvolution : table: 0x41634060\n",
        "  CosineDistance : table: 0x40383800\n",
        "  Euclidean : table: 0x40377dc8\n",
        "  SpatialZeroPadding : table: 0x40bde7e0\n",
        "  Mul : table: 0x403675a8\n",
        "  Narrow : table: 0x4031c9e0\n",
        "  Threshold : table: 0x4048f270\n",
        "  LogSigmoid : table: 0x4047e378\n",
        "  Sigmoid : table: 0x40480448\n",
        "  MulConstant : table: 0x40368ff0\n",
        "}\n"
       ]
      }
     ],
     "prompt_number": 1
    },
    {
     "cell_type": "code",
     "collapsed": false,
     "input": [
      "io.open(\"bank_note_auth.txt\", \"rb\")"
     ],
     "language": "python",
     "metadata": {},
     "outputs": [
      {
       "metadata": {},
       "output_type": "pyout",
       "prompt_number": 2,
       "text": [
        "file (0x7efce401f980)\n"
       ]
      }
     ],
     "prompt_number": 2
    },
    {
     "cell_type": "code",
     "collapsed": false,
     "input": [
      "lines = {{},{},{},{},{}}\n",
      "k = 1\n",
      "count = 1\n",
      "  for line in io.lines(\"bank_note_auth.txt\") do \n",
      "    table.insert(lines[k],line)\n",
      "    k = k+1\n",
      "    if k == 6 then \n",
      "        k= 1        \n",
      "    end            \n",
      "  end"
     ],
     "language": "python",
     "metadata": {},
     "outputs": [],
     "prompt_number": 63
    },
    {
     "cell_type": "code",
     "collapsed": false,
     "input": [
      "feature1 = torch.Tensor(lines[1])"
     ],
     "language": "python",
     "metadata": {},
     "outputs": [],
     "prompt_number": 66
    },
    {
     "cell_type": "code",
     "collapsed": false,
     "input": [
      "mean1 = feature1:mean()\n",
      "std1 = feature1:std()"
     ],
     "language": "python",
     "metadata": {},
     "outputs": [],
     "prompt_number": 67
    },
    {
     "cell_type": "code",
     "collapsed": false,
     "input": [
      "feature1:add(-mean1)\n",
      "feature1:div(std1)"
     ],
     "language": "python",
     "metadata": {},
     "outputs": [],
     "prompt_number": 69
    },
    {
     "cell_type": "code",
     "collapsed": false,
     "input": [
      "feature2 = torch.Tensor(lines[2])\n",
      "mean2 = feature2:mean()\n",
      "std2 = feature2:std()\n",
      "feature2:add(-mean2)\n",
      "feature2:div(std2)"
     ],
     "language": "python",
     "metadata": {},
     "outputs": [],
     "prompt_number": 70
    },
    {
     "cell_type": "code",
     "collapsed": false,
     "input": [
      "feature3 = torch.Tensor(lines[3])\n",
      "mean3 = feature3:mean()\n",
      "std3 = feature3:std()\n",
      "feature3:add(-mean3)\n",
      "feature3:div(std3)"
     ],
     "language": "python",
     "metadata": {},
     "outputs": [],
     "prompt_number": 71
    },
    {
     "cell_type": "code",
     "collapsed": false,
     "input": [
      "feature4 = torch.Tensor(lines[4])\n",
      "mean4 = feature4:mean()\n",
      "std4 = feature4:std()\n",
      "feature4:add(-mean4)\n",
      "feature4:div(std4)"
     ],
     "language": "python",
     "metadata": {},
     "outputs": [],
     "prompt_number": 72
    },
    {
     "cell_type": "code",
     "collapsed": false,
     "input": [
      "dataset={};\n",
      "function dataset:size() return 1372 end -- 1372 examples\n",
      "for i =1,dataset:size() do    \n",
      "    local input = torch.Tensor(4)\n",
      "    local output = torch.Tensor(1)\n",
      "    input[1] = feature1[i]\n",
      "    input[2] = feature2[i]\n",
      "    input[3] = feature3[i]\n",
      "    input[4] = feature4[i]\n",
      "    output[1] = lines[5][i]\n",
      "    dataset[i] = {input,output}    \n",
      "end"
     ],
     "language": "python",
     "metadata": {},
     "outputs": [],
     "prompt_number": 73
    },
    {
     "cell_type": "code",
     "collapsed": false,
     "input": [
      "require \"nn\"\n",
      "mlp=nn.Sequential();  -- make a multi-layer perceptron\n",
      "inputs=4; outputs=1; HUs=10;\n",
      "mlp:add(nn.Linear(inputs,HUs))\n",
      "mlp:add(nn.Tanh())\n",
      "mlp:add(nn.Linear(HUs,outputs))"
     ],
     "language": "python",
     "metadata": {},
     "outputs": [],
     "prompt_number": 74
    },
    {
     "cell_type": "code",
     "collapsed": false,
     "input": [
      "criterion = nn.MSECriterion()  \n",
      "trainer = nn.StochasticGradient(mlp, criterion)\n",
      "trainer.learningRate = 0.01\n",
      "trainer:train(dataset)"
     ],
     "language": "python",
     "metadata": {},
     "outputs": [
      {
       "metadata": {},
       "output_type": "pyout",
       "prompt_number": 75,
       "text": [
        "# StochasticGradient: training\t\n"
       ]
      },
      {
       "metadata": {},
       "output_type": "pyout",
       "prompt_number": 75,
       "text": [
        "# current error = 0.047239468193529\t\n"
       ]
      },
      {
       "metadata": {},
       "output_type": "pyout",
       "prompt_number": 75,
       "text": [
        "# current error = 0.028520568953562\t\n"
       ]
      },
      {
       "metadata": {},
       "output_type": "pyout",
       "prompt_number": 75,
       "text": [
        "# current error = 0.025199950043323\t\n"
       ]
      },
      {
       "metadata": {},
       "output_type": "pyout",
       "prompt_number": 75,
       "text": [
        "# current error = 0.022775183146067\t\n"
       ]
      },
      {
       "metadata": {},
       "output_type": "pyout",
       "prompt_number": 75,
       "text": [
        "# current error = 0.021249560399752\t\n"
       ]
      },
      {
       "metadata": {},
       "output_type": "pyout",
       "prompt_number": 75,
       "text": [
        "# current error = 0.020341641245553\t\n"
       ]
      },
      {
       "metadata": {},
       "output_type": "pyout",
       "prompt_number": 75,
       "text": [
        "# current error = 0.019727871518296\t\n"
       ]
      },
      {
       "metadata": {},
       "output_type": "pyout",
       "prompt_number": 75,
       "text": [
        "# current error = 0.019244242231291\t\n"
       ]
      },
      {
       "metadata": {},
       "output_type": "pyout",
       "prompt_number": 75,
       "text": [
        "# current error = 0.018827639349664\t\n"
       ]
      },
      {
       "metadata": {},
       "output_type": "pyout",
       "prompt_number": 75,
       "text": [
        "# current error = 0.018451640411095\t\n"
       ]
      },
      {
       "metadata": {},
       "output_type": "pyout",
       "prompt_number": 75,
       "text": [
        "# current error = 0.018102209409071\t\n"
       ]
      },
      {
       "metadata": {},
       "output_type": "pyout",
       "prompt_number": 75,
       "text": [
        "# current error = 0.01777088144538\t\n"
       ]
      },
      {
       "metadata": {},
       "output_type": "pyout",
       "prompt_number": 75,
       "text": [
        "# current error = 0.017452670597032\t\n"
       ]
      },
      {
       "metadata": {},
       "output_type": "pyout",
       "prompt_number": 75,
       "text": [
        "# current error = 0.017144954818006\t\n"
       ]
      },
      {
       "metadata": {},
       "output_type": "pyout",
       "prompt_number": 75,
       "text": [
        "# current error = 0.016846554824724\t\n"
       ]
      },
      {
       "metadata": {},
       "output_type": "pyout",
       "prompt_number": 75,
       "text": [
        "# current error = 0.0165569425241\t\n"
       ]
      },
      {
       "metadata": {},
       "output_type": "pyout",
       "prompt_number": 75,
       "text": [
        "# current error = 0.016275653963363\t\n"
       ]
      },
      {
       "metadata": {},
       "output_type": "pyout",
       "prompt_number": 75,
       "text": [
        "# current error = 0.016001965364394\t\n"
       ]
      },
      {
       "metadata": {},
       "output_type": "pyout",
       "prompt_number": 75,
       "text": [
        "# current error = 0.015734819416481\t\n"
       ]
      },
      {
       "metadata": {},
       "output_type": "pyout",
       "prompt_number": 75,
       "text": [
        "# current error = 0.015472918933029\t\n"
       ]
      },
      {
       "metadata": {},
       "output_type": "pyout",
       "prompt_number": 75,
       "text": [
        "# current error = 0.015214878427266\t\n"
       ]
      },
      {
       "metadata": {},
       "output_type": "pyout",
       "prompt_number": 75,
       "text": [
        "# current error = 0.014959348904857\t\n"
       ]
      },
      {
       "metadata": {},
       "output_type": "pyout",
       "prompt_number": 75,
       "text": [
        "# current error = 0.014705082359565\t\n"
       ]
      },
      {
       "metadata": {},
       "output_type": "pyout",
       "prompt_number": 75,
       "text": [
        "# current error = 0.014450947555478\t\n"
       ]
      },
      {
       "metadata": {},
       "output_type": "pyout",
       "prompt_number": 75,
       "text": [
        "# current error = 0.01419592944325\t\n",
        "# StochasticGradient: you have reached the maximum number of iterations\t\n",
        "# training error = 0.01419592944325\t\n"
       ]
      }
     ],
     "prompt_number": 75
    },
    {
     "cell_type": "code",
     "collapsed": false,
     "input": [
      "x=torch.Tensor(4);   -- create a test example Tensor\n",
      "x[1]=(3.245-mean1)/std1; x[2]=(6.63-mean2)/std2; x[3]=(-0.63435-mean3)/std3; x[4]=(0.86937-mean4)/std4  -- set its values\n",
      "pred=mlp:forward(x)  -- get the prediction of the mlp \n",
      "print(pred)          -- print it "
     ],
     "language": "python",
     "metadata": {},
     "outputs": [
      {
       "metadata": {},
       "output_type": "pyout",
       "prompt_number": 76,
       "text": [
        "-0.1012\n",
        "[torch.DoubleTensor of size 1]\n",
        "\n"
       ]
      }
     ],
     "prompt_number": 76
    },
    {
     "cell_type": "code",
     "collapsed": false,
     "input": [
      "x2=torch.Tensor(4);   -- create a test example Tensor\n",
      "x2[1]=(-2.41-mean1)/std1; x2[2]=(3.7433-mean2)/std2; x2[3]=(-0.40215-mean3)/std3; x2[4]=(-1.2953-mean4)/std4  -- set its values\n",
      "pred=mlp:forward(x2)  -- get the prediction of the mlp \n",
      "print(pred)          -- print it "
     ],
     "language": "python",
     "metadata": {},
     "outputs": [
      {
       "metadata": {},
       "output_type": "pyout",
       "prompt_number": 77,
       "text": [
        " 0.8521\n",
        "[torch.DoubleTensor of size 1]\n",
        "\n"
       ]
      }
     ],
     "prompt_number": 77
    },
    {
     "cell_type": "code",
     "collapsed": false,
     "input": [],
     "language": "python",
     "metadata": {},
     "outputs": []
    }
   ],
   "metadata": {}
  }
 ]
}